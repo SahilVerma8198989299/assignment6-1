{
 "cells": [
  {
   "cell_type": "markdown",
   "id": "57547e74-a507-43da-a55f-02c1d24b2072",
   "metadata": {},
   "source": [
    "Q1. Explain Class and Object with respect to Object-Oriented Programming. Give a suitable example."
   ]
  },
  {
   "cell_type": "markdown",
   "id": "ea9772d9-279e-40d7-94f7-b4a2ac0fbb13",
   "metadata": {},
   "source": [
    "\n",
    "In object-oriented programming (OOP), a class is a blueprint or a template for creating objects. It defines the characteristics and behaviors that the objects of the class will possess. A class encapsulates data (attributes) and methods (functions) that operate on that data, providing a way to model real-world entities or concepts.\n",
    "\n",
    "On the other hand, an object is an instance of a class. It is a concrete representation of the class, created using the class blueprint. Objects have their own unique identity and can store data in the form of attributes, and perform actions by invoking methods defined in the class."
   ]
  },
  {
   "cell_type": "code",
   "execution_count": 2,
   "id": "660bf22e-0ff3-4bc9-8696-35f77472b5b2",
   "metadata": {},
   "outputs": [
    {
     "data": {
      "text/plain": [
       "('sahil verma', 19, 'Rewari(haryana)')"
      ]
     },
     "execution_count": 2,
     "metadata": {},
     "output_type": "execute_result"
    }
   ],
   "source": [
    "#example:\n",
    "class test:\n",
    "    def __init__(self, name, age, address):\n",
    "        self.name=name\n",
    "        self.age=age\n",
    "        self.address=address\n",
    "    def information(self):\n",
    "        return self.name, self.age, self.address\n",
    "object=test(\"sahil verma\", 19, \"Rewari(haryana)\")\n",
    "object.information()"
   ]
  },
  {
   "cell_type": "markdown",
   "id": "009a46c7-85fe-4a9d-915f-242fdff87b99",
   "metadata": {},
   "source": [
    "Q2. Name the four pillars of OOPs."
   ]
  },
  {
   "cell_type": "markdown",
   "id": "4ba80b83-5e8b-4396-a454-1fe0573f0ba6",
   "metadata": {},
   "source": [
    "(1). inheritance\n",
    "(2). encapsulation\n",
    "(3). abstraction\n",
    "(4). polymorphism"
   ]
  },
  {
   "cell_type": "markdown",
   "id": "0f01be57-ecd9-4eb8-81b3-644fbdce22c3",
   "metadata": {},
   "source": [
    "Q3. Explain why the __init__() function is used. Give a suitable example."
   ]
  },
  {
   "cell_type": "markdown",
   "id": "bb2a4441-2173-40ec-8559-6b1e114a2387",
   "metadata": {},
   "source": [
    "\n",
    "The __init__() function is a special method in Python classes that is automatically called when an object is created from the class. It is known as the constructor method, and its purpose is to initialize the attributes of the object."
   ]
  },
  {
   "cell_type": "code",
   "execution_count": 4,
   "id": "56fd48d3-914d-4745-9c39-3f38c34eca05",
   "metadata": {},
   "outputs": [
    {
     "name": "stdout",
     "output_type": "stream",
     "text": [
      "Name: hello, Age: 23\n",
      "Name: hey, Age: 22\n"
     ]
    }
   ],
   "source": [
    "class Person:\n",
    "    def __init__(self, name, age):\n",
    "        self.name = name\n",
    "        self.age = age\n",
    "\n",
    "    def display_info(self):\n",
    "        print(f\"Name: {self.name}, Age: {self.age}\")\n",
    "        \n",
    "p1=Person(\"hello\", 23)\n",
    "p2=Person(\"hey\", 22)\n",
    "p1.display_info()\n",
    "p2.display_info()\n"
   ]
  },
  {
   "cell_type": "markdown",
   "id": "d52e28e3-5c31-4c6e-9391-64096dba2f8c",
   "metadata": {},
   "source": [
    "Q4. Why self is used in OOPs?"
   ]
  },
  {
   "cell_type": "markdown",
   "id": "9da96fb5-1dbd-450a-b3e4-1fb2a97dcb74",
   "metadata": {},
   "source": [
    "In object-oriented programming (OOP), the \"self\" keyword is used to refer to the instance of a class within the class itself. It is a convention used in many programming languages, such as Python.\n",
    "\n",
    "The purpose of \"self\" is to allow the instance of a class to access its own attributes and methods. When a method is called on an instance of a class, the instance itself is automatically passed as the first parameter to the method. By convention, this parameter is named \"self.\"\n",
    "\n",
    "By using \"self,\" you can access and modify instance variables, call other methods within the class, and generally interact with the instance itself. It provides a way to differentiate between instance variables and local variables within a class."
   ]
  },
  {
   "cell_type": "markdown",
   "id": "40fe8f24-9181-4231-96a2-7380b5ac01c8",
   "metadata": {},
   "source": [
    "Q5. What is inheritance? Give an example for each type of inheritance."
   ]
  },
  {
   "cell_type": "markdown",
   "id": "45d6a07e-e0e3-4941-a6c4-eb0f848f124c",
   "metadata": {},
   "source": [
    "Inheritance is a fundamental concept in object-oriented programming (OOP) that allows a class to inherit properties and behaviors from another class, called the superclass or base class. The class that inherits from the superclass is known as the subclass or derived class"
   ]
  },
  {
   "cell_type": "markdown",
   "id": "44b83d4f-c575-4d46-8b01-1defc7de5a71",
   "metadata": {},
   "source": [
    "single inheritance:"
   ]
  },
  {
   "cell_type": "code",
   "execution_count": 1,
   "id": "89a9f0cd-edfd-4635-b400-bdb1771a1cd5",
   "metadata": {},
   "outputs": [
    {
     "name": "stdout",
     "output_type": "stream",
     "text": [
      "Makes a sound\n",
      "None\n",
      "Barks\n",
      "None\n"
     ]
    }
   ],
   "source": [
    "class Animal:\n",
    "    def sound(self):\n",
    "        print(\"Makes a sound\")\n",
    "\n",
    "class Dog(Animal):\n",
    "    def vibe(self):\n",
    "        print(\"Barks\")\n",
    "\n",
    "my_dog = Dog()\n",
    "print(my_dog.sound())\n",
    "print(my_dog.vibe())\n"
   ]
  },
  {
   "cell_type": "markdown",
   "id": "f2405f8a-ab2f-453f-8dba-8b0b59a9502e",
   "metadata": {},
   "source": [
    "multi-level inheritance:"
   ]
  },
  {
   "cell_type": "code",
   "execution_count": 21,
   "id": "7d7ec87d-fab0-409b-abf7-b2c9759c9d03",
   "metadata": {},
   "outputs": [
    {
     "name": "stdout",
     "output_type": "stream",
     "text": [
      "sahil verma\n",
      "nitin verma\n"
     ]
    }
   ],
   "source": [
    "class father:\n",
    "        surname=\"verma\"\n",
    "        \n",
    "class child(father):\n",
    "    def show(self):\n",
    "        print(\"sahil\"+ \" \"+self.surname)\n",
    "        \n",
    "class g_child(child):\n",
    "    def screen(self):\n",
    "        print(\"nitin\"+\" \"+self.surname)\n",
    "        \n",
    "u=g_child()\n",
    "u.show()\n",
    "u.screen()"
   ]
  },
  {
   "cell_type": "markdown",
   "id": "5df58778-9c76-4766-8ca5-997f57c90912",
   "metadata": {},
   "source": [
    "multiple inheritance:"
   ]
  },
  {
   "cell_type": "code",
   "execution_count": 26,
   "id": "5c9545ef-34d8-4542-a2e0-78d35b3c4507",
   "metadata": {},
   "outputs": [
    {
     "data": {
      "text/plain": [
       "'in which, study of nature like lights, force, etc.'"
      ]
     },
     "execution_count": 26,
     "metadata": {},
     "output_type": "execute_result"
    }
   ],
   "source": [
    "class phy_sub:\n",
    "    def physics(self):\n",
    "        return \"in which, study of nature like lights, force, etc.\"\n",
    "    \n",
    "class che_sub:\n",
    "    def chemistry(self):\n",
    "        return \"in which, study of structure of substance\"\n",
    "    \n",
    "class math_sub(phy_sub, che_sub):\n",
    "    def maths(self):\n",
    "        return \"in which, study of science and study of quality, structure, space, and change\"\n",
    "    \n",
    "B=math_sub()\n",
    "B.physics()\n",
    "\n",
    "    "
   ]
  },
  {
   "cell_type": "code",
   "execution_count": 27,
   "id": "8071e17c-85ba-461a-931f-0ffb1c58432a",
   "metadata": {},
   "outputs": [
    {
     "data": {
      "text/plain": [
       "'in which, study of structure of substance'"
      ]
     },
     "execution_count": 27,
     "metadata": {},
     "output_type": "execute_result"
    }
   ],
   "source": [
    "B.chemistry()"
   ]
  },
  {
   "cell_type": "code",
   "execution_count": 28,
   "id": "f9780402-e455-4a14-a481-8a2e87bfb2b1",
   "metadata": {},
   "outputs": [
    {
     "data": {
      "text/plain": [
       "'in which, study of science and study of quality, structure, space, and change'"
      ]
     },
     "execution_count": 28,
     "metadata": {},
     "output_type": "execute_result"
    }
   ],
   "source": [
    "B.maths()"
   ]
  },
  {
   "cell_type": "markdown",
   "id": "e5a28352-c359-4788-a92d-4f3b8bbf96cf",
   "metadata": {},
   "source": [
    "Hierarchical Inheritance:"
   ]
  },
  {
   "cell_type": "code",
   "execution_count": 32,
   "id": "79cc9851-803d-49f2-ad00-1ae757204984",
   "metadata": {},
   "outputs": [
    {
     "name": "stdout",
     "output_type": "stream",
     "text": [
      "Motorcycle is doing a wheelie.\n",
      "Vehicle is moving.\n",
      "Car is honking.\n",
      "Vehicle is moving.\n"
     ]
    }
   ],
   "source": [
    "class Vehicle:\n",
    "    def move(self):\n",
    "        print(\"Vehicle is moving.\")\n",
    "\n",
    "class Car(Vehicle):\n",
    "    def honk(self):\n",
    "        print(\"Car is honking.\")\n",
    "\n",
    "class Motorcycle(Vehicle):\n",
    "    def wheelie(self):\n",
    "        print(\"Motorcycle is doing a wheelie.\")\n",
    "        \n",
    "R=Motorcycle()\n",
    "R.wheelie()\n",
    "R.move()\n",
    "\n",
    "U=Car()\n",
    "U.honk()\n",
    "U.move()"
   ]
  }
 ],
 "metadata": {
  "kernelspec": {
   "display_name": "Python 3 (ipykernel)",
   "language": "python",
   "name": "python3"
  },
  "language_info": {
   "codemirror_mode": {
    "name": "ipython",
    "version": 3
   },
   "file_extension": ".py",
   "mimetype": "text/x-python",
   "name": "python",
   "nbconvert_exporter": "python",
   "pygments_lexer": "ipython3",
   "version": "3.10.8"
  }
 },
 "nbformat": 4,
 "nbformat_minor": 5
}
